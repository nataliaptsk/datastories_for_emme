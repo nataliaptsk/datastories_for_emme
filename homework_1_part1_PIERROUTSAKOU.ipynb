{
  "cells": [
    {
      "cell_type": "markdown",
      "metadata": {
        "id": "view-in-github",
        "colab_type": "text"
      },
      "source": [
        "<a href=\"https://colab.research.google.com/github/nataliaptsk/datastories_for_emme/blob/main/homework_1_part1_PIERROUTSAKOU.ipynb\" target=\"_parent\"><img src=\"https://colab.research.google.com/assets/colab-badge.svg\" alt=\"Open In Colab\"/></a>"
      ]
    },
    {
      "cell_type": "code",
      "execution_count": null,
      "metadata": {
        "id": "73xCCbLL83xA"
      },
      "outputs": [],
      "source": []
    },
    {
      "cell_type": "markdown",
      "metadata": {
        "collapsed": true,
        "id": "SGbrEJi283xB"
      },
      "source": [
        "##  Εβδομάδα 1 - Εισαγωγή στην Python\n",
        "\n",
        "**Θεωρία**\n",
        "\n",
        "Η **Python** είναι γλώσσα προγραμματισμού υψηλού επιπέδου, ανοικτού πηγαίου κώδικα (open source) και γενικής χρήσης. Είναι\n",
        "εύκολη στην εκμάθηση (απλούστερη από τις C, C++, Java) και παρέχει ισχυρές δυνατότητες σε αρχάριους και έμπειρους προγραμματιστές.\n",
        "\n",
        "\n",
        "**Τιμές και τύποι**\n",
        "\n",
        "Η έννοια της τιμής αναφέρεται σε μεταβλητές αλλά και σε σταθερές τιμές. Επίσης, τιμές μπορεί να είναι οι αριθμοί αλλά και οι αριθμητικές εκφράσεις, όπως αν γράψετε 1+1. Ωστόσο, τιμή είναι και η έκφραση ‘hello world’. \n",
        "\n",
        "Κάθε τιμή ανήκει σε κάποιον τύπο (ακέραιοι αριθμοί, ομάδες χαρακτήρων ή strings, κλπ.). Η ομάδα χαρακτήρων είναι ένας από τους θεμελιώδεις τύπους της Python και σταθερές του τύπου ομάδα χαρακτήρων (ή συμβολοσειρά) τις οποίες περικλείουμε με εισαγωγικά (μονά (‘) ή διπλά (‘‘)) αρχής και τέλους. \n",
        "\n",
        "Η εντολή εκτύπωσης δουλεύει, βεβαίως, με ακέραιους αριθμούς και με πολλούς άλλους τύπους, όπως θα δούμε αργότερα.\n",
        "Με τον όρο κυριολεκτικές σταθερές (literal constants) αναφερόμαστε σε προκαθορισμένες τιμές που παραμένουν αμετάβλητες σε όλη τη διάρκεια εκτέλεσης ενός προγράμματος.\n",
        "\n",
        "Παραδείγματα τιμών:\n",
        "• 3,\n",
        "• 2.5,\n",
        "• ‘Hello, World!’\n",
        "\n",
        "Αυτές οι τιμές ανήκουν σε διαφορετικούς τύπους (types):\n",
        "\n",
        "• 3 είναι ένας ακέραιος αριθμός (integer).\n",
        "\n",
        "• 2.5 είναι ένας αριθμός κινητής υποδιαστολής (float).\n",
        "\n",
        "• ‘Hello, World!’ είναι μια συμβολοσειρά (string). Πρόκειται για μια ακολουθία από χαρακτήρες οι οποίοι περικλείονται σε μονά ή διπλά εισαγωγικά.\n",
        "\n",
        "• Εκτύπωση με χρήση της εντολής print."
      ]
    },
    {
      "cell_type": "code",
      "execution_count": null,
      "metadata": {
        "id": "2VAOxwB283xC",
        "outputId": "8da23263-ce52-4870-a7e5-a4af0ea0dc2e",
        "colab": {
          "base_uri": "https://localhost:8080/"
        }
      },
      "outputs": [
        {
          "output_type": "execute_result",
          "data": {
            "text/plain": [
              "13399"
            ]
          },
          "metadata": {},
          "execution_count": 1
        }
      ],
      "source": [
        "a = 12344\n",
        "c = 55\n",
        "d = 1000\n",
        "a + c + d"
      ]
    },
    {
      "cell_type": "code",
      "execution_count": null,
      "metadata": {
        "id": "3d8mJDvX83xD",
        "outputId": "f53ae1ad-8c92-4c8f-d0b3-f99978c77dca",
        "colab": {
          "base_uri": "https://localhost:8080/"
        }
      },
      "outputs": [
        {
          "output_type": "stream",
          "name": "stdout",
          "text": [
            "Kostas Mourlas\n"
          ]
        }
      ],
      "source": [
        "b =\"Kostas Mourlas\"\n",
        "print(b)"
      ]
    },
    {
      "cell_type": "code",
      "execution_count": null,
      "metadata": {
        "id": "GFYi916083xD",
        "outputId": "5023b6e3-530f-4eb0-b41b-d4c03fe19eab",
        "colab": {
          "base_uri": "https://localhost:8080/",
          "height": 37
        }
      },
      "outputs": [
        {
          "output_type": "execute_result",
          "data": {
            "text/plain": [
              "'Costas Mourlas 1000'"
            ],
            "application/vnd.google.colaboratory.intrinsic+json": {
              "type": "string"
            }
          },
          "metadata": {},
          "execution_count": 3
        }
      ],
      "source": [
        "a = 17\n",
        "a = \"Costas\"\n",
        "b = \"Mourlas\"\n",
        "a + \" \" + b + \" \" + str(d)"
      ]
    },
    {
      "cell_type": "markdown",
      "metadata": {
        "id": "-ykzXn-f83xD"
      },
      "source": [
        "Τύπος `int`  ακέραιοι αριθμοί\n",
        "\n",
        "Τύπος `float`  αριθμοί κινητής υποδιαστολής (δεκαδικοί αριθμοί)\n",
        "\n",
        "Τύπος `str`  συμβολοσειρές (ακολουθίες χαρακτήρων)"
      ]
    },
    {
      "cell_type": "code",
      "execution_count": null,
      "metadata": {
        "id": "l0zC1snE83xE",
        "outputId": "bdbbdbc3-9f9b-4630-e4b6-a951bbd76d6b",
        "colab": {
          "base_uri": "https://localhost:8080/"
        }
      },
      "outputs": [
        {
          "output_type": "stream",
          "name": "stdout",
          "text": [
            "33\n",
            "33\n",
            "137\n",
            "0.75\n"
          ]
        }
      ],
      "source": [
        "# Συμβολοσειρές'str' \n",
        "print (str(3) + \"3\")\n",
        "# Μετατρέψτε το 3 σε STRING\n",
        "print (\"3\" + \"3\")\n",
        "# Μετατρέψτε το 3 σε INTEGER\n",
        "print(int(\"134\") + 3)\n",
        "print(3/4)"
      ]
    },
    {
      "cell_type": "code",
      "execution_count": null,
      "metadata": {
        "id": "en9qLZK283xE",
        "outputId": "6aacceed-e4da-4ec6-95eb-05a2bb3dc9e5",
        "colab": {
          "base_uri": "https://localhost:8080/"
        }
      },
      "outputs": [
        {
          "output_type": "execute_result",
          "data": {
            "text/plain": [
              "1313233"
            ]
          },
          "metadata": {},
          "execution_count": 5
        }
      ],
      "source": [
        "v =\"1313233\"\n",
        "int(v)"
      ]
    },
    {
      "cell_type": "markdown",
      "metadata": {
        "id": "A-G8CA2583xF"
      },
      "source": [
        "## Μεταβλητές"
      ]
    },
    {
      "cell_type": "markdown",
      "metadata": {
        "id": "IVJLAwXf83xF"
      },
      "source": [
        "Τώρα, λοιπόν, γνωρίζουμε ότι έχουμε σταθερές τιμές, αλλά έχουμε και μεταβλητές\n",
        "τιμές. Από τα πιο δυνατά χαρακτηριστικά μιας γλώσσας προγραμματισμού είναι\n",
        "η δυνατότητα διαχείρισης μεταβλητών. Η **μεταβλητή (variable)** είναι ένα όνομα\n",
        "που αναφέρεται σε μια τιμή."
      ]
    },
    {
      "cell_type": "markdown",
      "metadata": {
        "id": "2nHoOOgb83xF"
      },
      "source": [
        "Τα ονόματα μεταβλητών μπορούν να περιέχουν αριθμούς και γράμματα, αλλά\n",
        "πρέπει να ξεκινούν με ένα γράμμα.\n",
        "\n",
        "Τα πεζά διακρίνονται από τα κεφαλαία:\n",
        "    \n",
        "• **Course** και **course** είναι διαφορετικές μεταβλητές.\n",
        "\n",
        "• **myname** και **myName** είναι διαφορετικές μεταβλητές."
      ]
    },
    {
      "cell_type": "code",
      "execution_count": null,
      "metadata": {
        "id": "1vs-cOtO83xF",
        "outputId": "e680d7a8-e65a-4b78-f2c4-0916f7c1c550",
        "colab": {
          "base_uri": "https://localhost:8080/"
        }
      },
      "outputs": [
        {
          "output_type": "stream",
          "name": "stdout",
          "text": [
            "Hello  Helen !!!\n"
          ]
        }
      ],
      "source": [
        "name= \"Helen\" \n",
        "print ('Hello ', name, \"!!!\")"
      ]
    },
    {
      "cell_type": "code",
      "execution_count": null,
      "metadata": {
        "id": "-dl9UVGo83xG",
        "outputId": "244371a3-5b0c-4b4b-deff-0cd48a87ab16",
        "colab": {
          "base_uri": "https://localhost:8080/"
        }
      },
      "outputs": [
        {
          "output_type": "stream",
          "name": "stdout",
          "text": [
            "Πόσο χρονών είσαι?21\n",
            "2121212121\n",
            "21\n",
            "42\n"
          ]
        }
      ],
      "source": [
        "age= input(\"Πόσο χρονών είσαι?\")\n",
        "print(5*age)\n",
        "hlikia = int(age)\n",
        "print(hlikia)\n",
        "print(2*hlikia)"
      ]
    },
    {
      "cell_type": "markdown",
      "metadata": {
        "id": "NEiiRRGC83xG"
      },
      "source": [
        "Ως εδώ κάτι έχω καταλάβει....."
      ]
    },
    {
      "cell_type": "code",
      "execution_count": null,
      "metadata": {
        "id": "td2HJFh383xG",
        "outputId": "5c530e8a-57a8-4cc3-f98b-2bc0797894bf",
        "colab": {
          "base_uri": "https://localhost:8080/"
        }
      },
      "outputs": [
        {
          "output_type": "stream",
          "name": "stdout",
          "text": [
            "Hello world\n",
            "Hello world\n",
            "4\n",
            "Hello world\n"
          ]
        }
      ],
      "source": [
        "age =55\n",
        "print('Hello world')\n",
        "print (\"Hello world\")\n",
        "print (2+2)\n",
        "print('Hello world')"
      ]
    },
    {
      "cell_type": "code",
      "execution_count": null,
      "metadata": {
        "id": "pO9qr3Dn83xG",
        "outputId": "c3258287-9482-49ac-927c-31bf00dc9b18",
        "colab": {
          "base_uri": "https://localhost:8080/"
        }
      },
      "outputs": [
        {
          "output_type": "stream",
          "name": "stdout",
          "text": [
            "age 55\n",
            "205\n",
            "200 Helen Γεια σου\n"
          ]
        }
      ],
      "source": [
        "print(\"age\", age)\n",
        "arithos  = 5\n",
        "A = 200\n",
        "print(arithos +A)\n",
        "print(A,name,\"Γεια σου\")"
      ]
    },
    {
      "cell_type": "markdown",
      "metadata": {
        "id": "qQyQA-6O83xH"
      },
      "source": [
        "## Πολλαπλές εκχωρήσεις\n",
        "Όπως ίσως θα έχετε διαπιστώσει, είναι νόμιμο να γίνουν παραπάνω από μία εκχωρήσεις σε μια μεταβλητή. \n",
        "\n",
        "Μια νέα εκχώρηση κάνει μια μεταβλητή να αναφέρεται σε μία **νέα τιμή** και να σταματήσει να αναφέρεται στην παλιά τιμή"
      ]
    },
    {
      "cell_type": "code",
      "execution_count": null,
      "metadata": {
        "id": "KuMIRGSq83xH",
        "outputId": "d78d7d5f-b20d-460c-8e9a-ba93131a670d"
      },
      "outputs": [
        {
          "name": "stdout",
          "output_type": "stream",
          "text": [
            "1\n"
          ]
        }
      ],
      "source": [
        "value = 1\n",
        "print(value)"
      ]
    },
    {
      "cell_type": "code",
      "execution_count": null,
      "metadata": {
        "id": "U8UkDmeL83xH",
        "outputId": "638259d1-974b-4f26-becd-b7652fcec9ac"
      },
      "outputs": [
        {
          "name": "stdout",
          "output_type": "stream",
          "text": [
            "2\n"
          ]
        }
      ],
      "source": [
        "value = 2\n",
        "print(value)"
      ]
    },
    {
      "cell_type": "markdown",
      "metadata": {
        "id": "pWhVU3Tt83xH"
      },
      "source": [
        "## Υπό συνθήκη (Conditional)"
      ]
    },
    {
      "cell_type": "markdown",
      "metadata": {
        "id": "201T0pa183xI"
      },
      "source": [
        "## Εντολές\n",
        "\n",
        "Έχουμε δει, ήδη, δύο είδη εντολών: print (εκτύπωση) και assignment (εκχώρηση).\n",
        "\n",
        "Οι εντολές γενικότερα εκτελούνται από το διερμηνευτή της Python. Όταν γράφετε μια εντολή στη γραμμή εντολών (command line), ο διερμηνευτής την εκτελεί και δείχνει στην οθόνη το αποτέλεσμα, αν η εντολή είναι εντολή εξόδου. Στην περίπτωση του print είναι, ενώ στην περίπτωση της εκχώρησης δεν είναι. Ένα πρόγραμμα ή ένα σενάριο (script) όπως ονομάζεται στην Python, συνήθως περιέχει\n",
        "περισσότερες της μίας εντολές. "
      ]
    },
    {
      "cell_type": "code",
      "execution_count": null,
      "metadata": {
        "id": "7cOzZQDC83xI",
        "outputId": "e743aefe-ddd2-404c-9e74-7ef2ce881e36",
        "colab": {
          "base_uri": "https://localhost:8080/"
        }
      },
      "outputs": [
        {
          "output_type": "stream",
          "name": "stdout",
          "text": [
            "Αγόρασε σε παρακαλώ 20 μπύρες\n",
            "Θα σε πληρώσω αργότερα\n",
            "Ας κάνουμε ένα πάρτυ!\n"
          ]
        }
      ],
      "source": [
        "#Αν η μεταβλητή'age' είναι μικρότερη του 18,\n",
        "#τότε τύπωσε αυτό που πρέπει \n",
        "# Να προσέχω να βάζω : στο τέλος κάθε εντολής if\n",
        "\n",
        "if (hlikia < 18):\n",
        "    print(\"Απαγορεύεται να αγοράσεις αλκοόλ\")\n",
        "    print(\"Συγγνώμη\")\n",
        "else:\n",
        "    print (\"Αγόρασε σε παρακαλώ 20 μπύρες\")\n",
        "    print ( \"Θα σε πληρώσω αργότερα\")\n",
        "    print(\"Ας κάνουμε ένα πάρτυ!\")"
      ]
    },
    {
      "cell_type": "markdown",
      "metadata": {
        "id": "6IbaDqGD83xI"
      },
      "source": [
        "Στο παρακάτω παράδειγμα στο οποίο ελέγχουμε για ισότητα της μεταβλητής x με το 2 (η σύγκριση για ισότητα εκφράζεται με δύο ίσον (==)\n",
        "σε αντίθεση με την εκχώρηση (=)). \n",
        "\n",
        "Αν το 3 είναι ίσον με το 2, ακολουθεί η άνω-κάτω-τελεία (:), που σημαίνει ότι τελείωσε το κομμάτι της συνθήκης και τώρα πάμε να εκτελέσουμε αν ισχύει η συνθήκη. \n",
        "\n",
        "Αν το 3 ήταν ίσο με 2, που δεν είναι, τότε θα εκτυπώναμε την τιμή του x, διαφορετικά (κάτι που ισχύει εδώ) το x παίρνει την τιμή 3 και μετά τυπώνουμε το x."
      ]
    },
    {
      "cell_type": "code",
      "execution_count": null,
      "metadata": {
        "id": "j5zqhk8n83xJ",
        "outputId": "7162e0bc-99bd-45af-94dc-bed24f289f1c",
        "colab": {
          "base_uri": "https://localhost:8080/"
        }
      },
      "outputs": [
        {
          "output_type": "stream",
          "name": "stdout",
          "text": [
            "3\n"
          ]
        }
      ],
      "source": [
        "\n",
        "if x == 3:\n",
        "    print(x)\n",
        "else:\n",
        "    print(\"To x δεν είναι 3\")\n",
        "    x = 3\n",
        "    \n",
        "#print(x)"
      ]
    },
    {
      "cell_type": "code",
      "execution_count": null,
      "metadata": {
        "id": "a-eUpvbL83xJ",
        "outputId": "28d0e65c-f156-4316-93ea-6cec0dea4436",
        "colab": {
          "base_uri": "https://localhost:8080/"
        }
      },
      "outputs": [
        {
          "output_type": "execute_result",
          "data": {
            "text/plain": [
              "3"
            ]
          },
          "metadata": {},
          "execution_count": 15
        }
      ],
      "source": [
        "x"
      ]
    },
    {
      "cell_type": "markdown",
      "metadata": {
        "id": "uqmuBRYx83xJ"
      },
      "source": [
        "## Λάθη\n",
        "\n",
        "Αν κάνουμε κάποιο συντακτικό λάθος (π.χ. παραλείψουμε το :) η λειτουργία check module («έλεγξε το πρόγραμμα») θα μας πει ότι δεν είναι σωστή η σύνταξη και θα κοκκινίσει το μέρος όπου βλέπει κάποιο λάθος. \n",
        "Έτσι θα το διορθώσουμε, θα το ξανατρέξουμε και εφόσον δεν υπάρχει συντακτικό λάθος στο πρόγραμμα,θα τυπώσει 3, όπως αναμένουμε.\n",
        "\n",
        "\n",
        "Αν υποθέσουμε ότι για κάποιο λόγο είχαμε βάλει print y, το οποίο δεν είναι ορισμένο, αυτό δεν είναι συντακτικό λάθος.\n",
        "\n"
      ]
    },
    {
      "cell_type": "code",
      "execution_count": null,
      "metadata": {
        "id": "ZdRcaLgg83xJ",
        "outputId": "53b8141d-cbec-4c36-f9fc-af637117929b",
        "colab": {
          "base_uri": "https://localhost:8080/"
        }
      },
      "outputs": [
        {
          "output_type": "stream",
          "name": "stdout",
          "text": [
            "3\n"
          ]
        }
      ],
      "source": [
        "x = 3\n",
        "y = 0\n",
        "if y == 3:\n",
        "    print(y)\n",
        "else:\n",
        "    y = 3\n",
        "    \n",
        "print(y)"
      ]
    },
    {
      "cell_type": "markdown",
      "metadata": {
        "id": "uOeYeKYs83xK"
      },
      "source": [
        "Οι μεταβλητές δηλώνονται την πρώτη φορά που τις χρησιμοποιούμε. Αλλά αν προσπαθήσουμε να το τρέξουμε, τότε βλέπετε ότι έχουμε το λεγόμενο run time error, λάθος κατά το χρόνο εκτέλεσης γιατί, προφανώς, δεν ήταν ορισμένο, επομένως δεν μπορεί να τυπωθεί κάτι, αφού δεν ξέρει την τιμή.\n",
        "\n",
        "Είδαμε, λοιπόν, δύο διαφορετικές πολύ μεγάλες κατηγορίες λαθών, τα πρώτα, σχετικά πιο εύκολα, τα λεγόμενα συντακτικά λάθη, δηλαδή, στη σύνταξη της γλώσσας και τα άλλα πιο δύσκολα να αντιληφθεί κανείς, τα λεγόμενα λάθη εκτέλεσης, run time error. \n",
        "\n",
        "Είναι πολύ σημαντικό να γίνει κατανοητή αυτή η σημαντική διαφορά μεταξύ αυτών των δύο κατηγοριών λαθών."
      ]
    },
    {
      "cell_type": "markdown",
      "metadata": {
        "id": "6Vge-VwA83xK"
      },
      "source": [
        "## Συμβολοσειρές, λίστες, λεξικά, μέθοδοι\n",
        "\n",
        "**Θεωρία**\n",
        "\n",
        "Σήμερα θα δούμε επίσης, τις βασικές δομές δεδομένων, όπως οι συμβολοσειρές (strings), οι λίστες (lists), οι πλειάδες (tuples)\n",
        "και τα λεξικά (dictionaries), καθώς και της διαχείρισής τους."
      ]
    },
    {
      "cell_type": "markdown",
      "metadata": {
        "id": "hIHBkWHQ83xK"
      },
      "source": [
        "**Συμβολοσειρές**\n",
        "\n",
        "\n",
        "Μια συμβολοσειρά είναι μια ακολουθία από χαρακτήρες. Οι συμβολοσειρές ανήκουν στον τύπο δεδομένων `str`. Μπορείτε να ορίσετε συμβολοσειρές με μονά (‘) ή διπλά (‘‘) εισαγωγικά:"
      ]
    },
    {
      "cell_type": "code",
      "execution_count": null,
      "metadata": {
        "id": "pk17DfXL83xL",
        "outputId": "94a80e12-443e-40fe-9f31-514115d0c76e",
        "colab": {
          "base_uri": "https://localhost:8080/",
          "height": 37
        }
      },
      "outputs": [
        {
          "output_type": "execute_result",
          "data": {
            "text/plain": [
              "'Vasilis'"
            ],
            "application/vnd.google.colaboratory.intrinsic+json": {
              "type": "string"
            }
          },
          "metadata": {},
          "execution_count": 17
        }
      ],
      "source": [
        "name = 'Vasilis'\n",
        "name"
      ]
    },
    {
      "cell_type": "code",
      "execution_count": null,
      "metadata": {
        "id": "zroKipGC83xL",
        "outputId": "c873c3f4-b977-48b5-98b5-ad32889ec36e",
        "colab": {
          "base_uri": "https://localhost:8080/",
          "height": 37
        }
      },
      "outputs": [
        {
          "output_type": "execute_result",
          "data": {
            "text/plain": [
              "'Vasilis'"
            ],
            "application/vnd.google.colaboratory.intrinsic+json": {
              "type": "string"
            }
          },
          "metadata": {},
          "execution_count": 18
        }
      ],
      "source": [
        "name = \"Vasilis\"\n",
        "name"
      ]
    },
    {
      "cell_type": "markdown",
      "metadata": {
        "id": "mNqTJIEz83xL"
      },
      "source": [
        "Τα μονά εισαγωγικά (‘) μπορείτε να τα χρησιμοποιείτε ελεύθερα μέσα σε διπλά εισαγωγικά (‘‘)"
      ]
    },
    {
      "cell_type": "code",
      "execution_count": null,
      "metadata": {
        "id": "TwxDOzbf83xL",
        "outputId": "d5c9968a-d330-4dc6-af0d-cfa5cde97b71",
        "colab": {
          "base_uri": "https://localhost:8080/"
        }
      },
      "outputs": [
        {
          "output_type": "stream",
          "name": "stdout",
          "text": [
            "Let's party!\n"
          ]
        }
      ],
      "source": [
        "print(\"Let's party!\")"
      ]
    },
    {
      "cell_type": "code",
      "execution_count": null,
      "metadata": {
        "id": "ZOuiEKaG83xL",
        "outputId": "7e296ab3-cada-4ae0-db2b-6cd26b9480b7",
        "colab": {
          "base_uri": "https://localhost:8080/"
        }
      },
      "outputs": [
        {
          "output_type": "stream",
          "name": "stdout",
          "text": [
            "Μπορείτε να ορίσετε συμβολοσειρές πολλαπλών γραμμών με τριπλά εισαγωγικά (τρία διπλά ‘‘‘‘‘‘ ή τρία μονά ‘‘‘).  \n",
            "Βλέπετε ότι με τα τριπλά εισαγωγικά μπορούμε να αλλάξουμε και γραμμή, \n",
            "χωρίς να χρειάζεται να βάλουμε την ακολουθία διαφυγής\n"
          ]
        }
      ],
      "source": [
        "c = '''Μπορείτε να ορίσετε συμβολοσειρές πολλαπλών γραμμών με τριπλά εισαγωγικά (τρία διπλά ‘‘‘‘‘‘ ή τρία μονά ‘‘‘).  \n",
        "Βλέπετε ότι με τα τριπλά εισαγωγικά μπορούμε να αλλάξουμε και γραμμή, \n",
        "χωρίς να χρειάζεται να βάλουμε την ακολουθία διαφυγής'''\n",
        "\n",
        "print(c)"
      ]
    },
    {
      "cell_type": "markdown",
      "metadata": {
        "id": "ymMQ5F0T83xL"
      },
      "source": [
        "## Λίστες\n",
        "\n",
        "Η λίστα είναι ο δεύτερος σύνθετος τύπος (μετά τις συμβολοσειρές) στον οποίο αναφερόμαστε στην Python. Οι λίστες (`lists`), δηλώνουν πράγματα καθώς και διατεταγμένα σύνολα τιμών. Οι τιμές (μέλη μιας λίστας) λέγονται στοιχεία (`elements`).\n",
        "\n",
        "Ο όρος «διατεταγμένα» σημαίνει ότι μπορούμε να ορίσουμε ότι αυτό είναι το πρώτο, αυτό είναι δεύτερο, αυτό τρίτο κλπ. Οι λίστες είναι παρόμοιες με τις συμβολοσειρές, οι οποίες είναι διατεταγμένα σύνολα χαρακτήρων, ωστόσο τα στοιχεία μιας λίστας μπορεί να είναι οποιουδήποτε τύπου. \n",
        "\n",
        "Μπορεί να είναι νούμερα, ακέραιοι, πραγματικοί, μπορεί να είναι άλλες λίστες. Μπορεί να περιέχουν στοιχεία οποιουδήποτε τύπου της Python και όλα αυτά να τα βάζουμε μαζί γιατί πιστεύουμε ότι πρέπει να είναι μαζί. "
      ]
    },
    {
      "cell_type": "markdown",
      "metadata": {
        "id": "UXzyURgR83xL"
      },
      "source": [
        "Ο απλούστερος τρόπος να δημιουργήσει κανείς μια λίστα, είναι να βάλει τα στοιχεία της μέσα σε [ ]. "
      ]
    },
    {
      "cell_type": "code",
      "execution_count": null,
      "metadata": {
        "id": "GuzgfHS683xL"
      },
      "outputs": [],
      "source": [
        "L = [\"Dimitris\", \"Sotiris\", \"Katerina\", \"Christos\", \"Eleni\"]"
      ]
    },
    {
      "cell_type": "code",
      "execution_count": null,
      "metadata": {
        "id": "XvIGeSiG83xM"
      },
      "outputs": [],
      "source": [
        "grades = [5, 6,7,8,3]"
      ]
    },
    {
      "cell_type": "code",
      "execution_count": null,
      "metadata": {
        "id": "5hUabA4B83xM",
        "outputId": "aedd23c0-fb6b-47bb-901b-8b1e91156ed3",
        "colab": {
          "base_uri": "https://localhost:8080/"
        }
      },
      "outputs": [
        {
          "output_type": "stream",
          "name": "stdout",
          "text": [
            "Dimitris\n",
            "Sotiris\n",
            "Katerina\n",
            "Christos\n",
            "Eleni\n",
            "5\n",
            "6\n",
            "7\n",
            "8\n",
            "3\n"
          ]
        }
      ],
      "source": [
        "for name in L:\n",
        "    print(name)\n",
        "\n",
        "for grade in grades:\n",
        "    print(grade)"
      ]
    },
    {
      "cell_type": "code",
      "execution_count": null,
      "metadata": {
        "id": "TrXQOMlF83xM",
        "outputId": "8d82549d-83be-4410-d35c-58e6bc1f1029",
        "colab": {
          "base_uri": "https://localhost:8080/"
        }
      },
      "outputs": [
        {
          "output_type": "stream",
          "name": "stdout",
          "text": [
            "O  Dimitris  πήρε βαθμό:  5\n",
            "O  Sotiris  πήρε βαθμό:  6\n",
            "H  Katerina  πήρε βαθμό:  7\n",
            "O  Christos  πήρε βαθμό:  8\n",
            "H  Eleni  πήρε βαθμό:  3\n"
          ]
        }
      ],
      "source": [
        "suffix =\"s\"\n",
        "for i in range(0,5):\n",
        "    if (L[i].endswith(suffix)):\n",
        "        print(\"O \", L[i], \" πήρε βαθμό: \", grades[i])\n",
        "    else:\n",
        "        print(\"H \", L[i], \" πήρε βαθμό: \", grades[i])\n",
        "        "
      ]
    },
    {
      "cell_type": "code",
      "execution_count": null,
      "metadata": {
        "id": "V1w3Ck_X83xM",
        "outputId": "4b239dcc-0859-4cb8-e471-cc5ac4b843ec",
        "colab": {
          "base_uri": "https://localhost:8080/"
        }
      },
      "outputs": [
        {
          "output_type": "execute_result",
          "data": {
            "text/plain": [
              "True"
            ]
          },
          "metadata": {},
          "execution_count": 25
        }
      ],
      "source": [
        "\n",
        "x = \"Sotiris\"\n",
        "x[-1:] == 's'"
      ]
    },
    {
      "cell_type": "code",
      "execution_count": null,
      "metadata": {
        "id": "7vSmFCe483xM",
        "outputId": "e57bd5d0-5876-4d57-c49b-b2070c59b2f3",
        "colab": {
          "base_uri": "https://localhost:8080/",
          "height": 37
        }
      },
      "outputs": [
        {
          "output_type": "execute_result",
          "data": {
            "text/plain": [
              "'Dimitris'"
            ],
            "application/vnd.google.colaboratory.intrinsic+json": {
              "type": "string"
            }
          },
          "metadata": {},
          "execution_count": 26
        }
      ],
      "source": [
        "L[0]"
      ]
    },
    {
      "cell_type": "code",
      "execution_count": null,
      "metadata": {
        "id": "zbkuq8d883xM",
        "outputId": "acc3754a-5dd2-4e3f-fcab-2eff9993d39a",
        "colab": {
          "base_uri": "https://localhost:8080/"
        }
      },
      "outputs": [
        {
          "output_type": "stream",
          "name": "stdout",
          "text": [
            "Dimitris\n"
          ]
        }
      ],
      "source": [
        "print(L[0])"
      ]
    },
    {
      "cell_type": "code",
      "execution_count": null,
      "metadata": {
        "id": "6zS4Ktks83xM",
        "outputId": "16e3a536-3de7-4698-f76d-abac1e08e8d8",
        "colab": {
          "base_uri": "https://localhost:8080/"
        }
      },
      "outputs": [
        {
          "output_type": "stream",
          "name": "stdout",
          "text": [
            "Sotiris\n"
          ]
        }
      ],
      "source": [
        "print(L[1])"
      ]
    },
    {
      "cell_type": "code",
      "execution_count": null,
      "metadata": {
        "id": "vIoiQVgI83xM",
        "outputId": "16b34b29-ad7c-4a6b-f987-f7b3b2b20a9d",
        "colab": {
          "base_uri": "https://localhost:8080/"
        }
      },
      "outputs": [
        {
          "output_type": "stream",
          "name": "stdout",
          "text": [
            "Katerina\n"
          ]
        }
      ],
      "source": [
        "print(L[2])"
      ]
    },
    {
      "cell_type": "markdown",
      "metadata": {
        "id": "DyUSOmiv83xN"
      },
      "source": [
        "## Λειτουργίες & Μέθοδοι"
      ]
    },
    {
      "cell_type": "markdown",
      "metadata": {
        "id": "wxdacKeS83xN"
      },
      "source": [
        "## Μήκος λίστας\n",
        "Όπως είχαμε δει και με τις συμβολοσειρές, έτσι και στις λίστες έχουμε μια συνάρτηση len, η οποία επιστρέφει το μήκος μιας λίστας. "
      ]
    },
    {
      "cell_type": "code",
      "execution_count": null,
      "metadata": {
        "id": "iywN4JPh83xN"
      },
      "outputs": [],
      "source": [
        "M = [1,3,4,5,5,6,6,6,77,87,8,88,8,8,88,8,8,8,8,88,8]"
      ]
    },
    {
      "cell_type": "code",
      "execution_count": null,
      "metadata": {
        "id": "GkgAFJKM83xN",
        "outputId": "0a25b1a1-5a2a-4f8e-96fe-b9fc1969ecd4",
        "colab": {
          "base_uri": "https://localhost:8080/"
        }
      },
      "outputs": [
        {
          "output_type": "execute_result",
          "data": {
            "text/plain": [
              "21"
            ]
          },
          "metadata": {},
          "execution_count": 31
        }
      ],
      "source": [
        "len(M)"
      ]
    },
    {
      "cell_type": "code",
      "execution_count": null,
      "metadata": {
        "id": "gvQ97Z4283xN",
        "outputId": "38a64f28-5891-430a-b00b-8c3c866efc3d",
        "colab": {
          "base_uri": "https://localhost:8080/"
        }
      },
      "outputs": [
        {
          "output_type": "execute_result",
          "data": {
            "text/plain": [
              "528"
            ]
          },
          "metadata": {},
          "execution_count": 32
        }
      ],
      "source": [
        "sum(M)"
      ]
    },
    {
      "cell_type": "markdown",
      "metadata": {
        "id": "sJPqUTA-83xN"
      },
      "source": [
        "**Φέτες από λίστες**\n",
        "\n",
        "Όπως και στις συμβολοσειρές, ο τελεστής φέτας (`slice`) δουλεύει επίσης και με τις λίστες. "
      ]
    },
    {
      "cell_type": "code",
      "execution_count": null,
      "metadata": {
        "id": "eaPB3PTY83xN",
        "outputId": "8e5ac915-f014-4421-814d-b189d03bfd7f",
        "colab": {
          "base_uri": "https://localhost:8080/"
        }
      },
      "outputs": [
        {
          "output_type": "execute_result",
          "data": {
            "text/plain": [
              "[4, 5, 5]"
            ]
          },
          "metadata": {},
          "execution_count": 33
        }
      ],
      "source": [
        "M[2:5]"
      ]
    },
    {
      "cell_type": "markdown",
      "metadata": {
        "id": "BALIxlGz83xN"
      },
      "source": [
        "**Έλεγχος του “ανήκειν”**\n",
        "\n",
        "Ο `in` είναι λογικός τελεστής ο οποίος ελέγχει αν μια τιμή ανήκει σε μια λίστα (επιστρέφοντας true ή false) και δουλεύει όπως και στις συμβολοσειρές. \n",
        "Μπορούμε, επίσης, να χρησιμοποιήσουμε την έκφραση `not in`. "
      ]
    },
    {
      "cell_type": "code",
      "execution_count": null,
      "metadata": {
        "id": "8Zn0SSqg83xN",
        "outputId": "61538b15-ed4b-4c97-f956-b38aa6e97ec1",
        "colab": {
          "base_uri": "https://localhost:8080/"
        }
      },
      "outputs": [
        {
          "output_type": "stream",
          "name": "stdout",
          "text": [
            "Dimitris\n",
            "Sotiris\n",
            "Katerina\n",
            "Christos\n",
            "Eleni\n"
          ]
        },
        {
          "output_type": "execute_result",
          "data": {
            "text/plain": [
              "5"
            ]
          },
          "metadata": {},
          "execution_count": 34
        }
      ],
      "source": [
        "for patates in L: \n",
        "    print(patates) \n",
        "\n",
        "\n",
        "\n",
        "len(L)"
      ]
    },
    {
      "cell_type": "markdown",
      "metadata": {
        "id": "GpVWyRwy83xO"
      },
      "source": [
        "Η συνάρτηση `range` έχει ως ορίσματα δύο ακεραίους και επιστρέφει την ακολουθία των ακέραιων αριθμών στο διάστημα από το πρώτο έως \n",
        "το δεύτερό της όρισμα, συμπεριλαμβάνοντας το πρώτο όρισμα, αλλά αποκλείοντας το δεύτερο. "
      ]
    },
    {
      "cell_type": "code",
      "execution_count": null,
      "metadata": {
        "id": "6FrG1OOE83xO",
        "outputId": "de0cd4fb-36f9-4470-9f67-d625487b1387",
        "colab": {
          "base_uri": "https://localhost:8080/"
        }
      },
      "outputs": [
        {
          "output_type": "stream",
          "name": "stdout",
          "text": [
            "0 DIMITRIS\n",
            "1 SOTIRIS\n",
            "2 KATERINA\n",
            "3 CHRISTOS\n",
            "4 ELENI\n"
          ]
        }
      ],
      "source": [
        "for ntomates in range(0,len(L)):\n",
        "     print(ntomates, L[ntomates].upper())"
      ]
    },
    {
      "cell_type": "markdown",
      "metadata": {
        "id": "eCG_x1L583xO"
      },
      "source": [
        "**Κεφαλαία**"
      ]
    },
    {
      "cell_type": "markdown",
      "metadata": {
        "id": "u69ij_E183xO"
      },
      "source": [
        "Μέθοδος για κεφαλαία συμβολοσειρά"
      ]
    },
    {
      "cell_type": "code",
      "execution_count": null,
      "metadata": {
        "id": "ePjojINe83xO",
        "outputId": "eea141df-8535-4cb4-8252-cd8480ed278c",
        "colab": {
          "base_uri": "https://localhost:8080/",
          "height": 37
        }
      },
      "outputs": [
        {
          "output_type": "execute_result",
          "data": {
            "text/plain": [
              "'ΓΕΙΑ ΣΟΥ'"
            ],
            "application/vnd.google.colaboratory.intrinsic+json": {
              "type": "string"
            }
          },
          "metadata": {},
          "execution_count": 36
        }
      ],
      "source": [
        "\"Γεια σου\".upper()"
      ]
    },
    {
      "cell_type": "markdown",
      "metadata": {
        "id": "mvhanQdg83xO"
      },
      "source": [
        "Λειτουργία για να βρούμε τον αριθμό των χαρακτήρων σε μια συμβολοσειρά"
      ]
    },
    {
      "cell_type": "code",
      "execution_count": null,
      "metadata": {
        "id": "HJJLOK_e83xO",
        "outputId": "2d50b6ac-2bfb-45fa-a7d3-433b1ce2b7ff",
        "colab": {
          "base_uri": "https://localhost:8080/"
        }
      },
      "outputs": [
        {
          "output_type": "execute_result",
          "data": {
            "text/plain": [
              "8"
            ]
          },
          "metadata": {},
          "execution_count": 37
        }
      ],
      "source": [
        "len(\"καλημέρα\") "
      ]
    },
    {
      "cell_type": "markdown",
      "metadata": {
        "id": "_nLMbM3h83xO"
      },
      "source": [
        "Λειτουργία για να ιεραρχήσουμε μια λίστα με αριθμούς "
      ]
    },
    {
      "cell_type": "code",
      "execution_count": null,
      "metadata": {
        "id": "nHCRLIVW83xO",
        "outputId": "b9f1ea57-2d77-4a1c-b04e-19c84c64dc8d",
        "colab": {
          "base_uri": "https://localhost:8080/"
        }
      },
      "outputs": [
        {
          "output_type": "execute_result",
          "data": {
            "text/plain": [
              "[0, 1, 2, 3, 4, 5]"
            ]
          },
          "metadata": {},
          "execution_count": 38
        }
      ],
      "source": [
        "sorted([0, 5, 4, 2, 3, 1]) "
      ]
    },
    {
      "cell_type": "code",
      "execution_count": null,
      "metadata": {
        "id": "r2ZnM5ZT83xO",
        "outputId": "c2ba21d7-b1c2-4eb0-9f98-dd2d81ccda7c",
        "colab": {
          "base_uri": "https://localhost:8080/"
        }
      },
      "outputs": [
        {
          "output_type": "execute_result",
          "data": {
            "text/plain": [
              "['Dimitris', 'Giannis', 'Kostas', 'Paris']"
            ]
          },
          "metadata": {},
          "execution_count": 39
        }
      ],
      "source": [
        "M = [\"Giannis\", \"Kostas\", \"Dimitris\", \"Paris\"]\n",
        "sorted(M)"
      ]
    },
    {
      "cell_type": "markdown",
      "metadata": {
        "id": "-WDbHeXn83xP"
      },
      "source": [
        "Μέθοδος για αντικατάσταση κειμένου με κείμενο "
      ]
    },
    {
      "cell_type": "code",
      "execution_count": null,
      "metadata": {
        "id": "IvaDH2ou83xP",
        "outputId": "11932927-29bc-4c3a-e529-4622f9a3efa5",
        "colab": {
          "base_uri": "https://localhost:8080/",
          "height": 37
        }
      },
      "outputs": [
        {
          "output_type": "execute_result",
          "data": {
            "text/plain": [
              "'_3_3_3'"
            ],
            "application/vnd.google.colaboratory.intrinsic+json": {
              "type": "string"
            }
          },
          "metadata": {},
          "execution_count": 40
        }
      ],
      "source": [
        "\"123123123\".replace(\"12\", \"_\") "
      ]
    },
    {
      "cell_type": "code",
      "execution_count": null,
      "metadata": {
        "id": "Qt6mz_QZ83xP",
        "outputId": "3cc4bea4-238c-4283-93a8-2e9d13313026",
        "colab": {
          "base_uri": "https://localhost:8080/",
          "height": 37
        }
      },
      "outputs": [
        {
          "output_type": "execute_result",
          "data": {
            "text/plain": [
              "'Mirii'"
            ],
            "application/vnd.google.colaboratory.intrinsic+json": {
              "type": "string"
            }
          },
          "metadata": {},
          "execution_count": 41
        }
      ],
      "source": [
        "\"Maria\".replace(\"a\",\"i\")"
      ]
    },
    {
      "cell_type": "markdown",
      "metadata": {
        "collapsed": true,
        "id": "ByYUVe7E83xP"
      },
      "source": [
        "Οι λειτουργίες δίνουν αποτέλεσμα έξω από τις μεταβλητές, ενώ οι μέθοδοι επηρεάζουν τις ίδιες τις μεταβλητές.\n",
        "\n",
        "Μην ξεχνάτε το σύμβολο () γιατί διαφορετικά οι λειτουργίες και οι μέθοδοί σας δεν θα δουλέψουν."
      ]
    },
    {
      "cell_type": "markdown",
      "metadata": {
        "id": "XDCIv11w83xP"
      },
      "source": [
        "# Λειτουργίες & Μέθοδοι για αριθμούς"
      ]
    },
    {
      "cell_type": "markdown",
      "metadata": {
        "id": "NMH0HBeC83xP"
      },
      "source": [
        "**Στρογγυλοποίηση δεκαδικών**"
      ]
    },
    {
      "cell_type": "code",
      "execution_count": null,
      "metadata": {
        "id": "RXp5BTVM83xP",
        "outputId": "89bfe1e1-f459-4c33-b55c-961ca91c6778"
      },
      "outputs": [
        {
          "name": "stdout",
          "output_type": "stream",
          "text": [
            "1\n",
            "24\n",
            "7\n"
          ]
        }
      ],
      "source": [
        "L = [1.34546, 23.5666, 6.566646]\n",
        "for number in L:\n",
        "     print(round(number))"
      ]
    },
    {
      "cell_type": "markdown",
      "metadata": {
        "id": "mZouQeE383xP"
      },
      "source": [
        "Στρογγυλοποίηση προς τα πάνω και προς τα κάτω.\n",
        "\n",
        "Απαιτούνται εξωτερικές βιβλιοθήκες - κώδικας που έγραψε κάποιος άλλος και που.\n",
        "\n",
        "δεν συμπεριλαμβάνεται αυτόματα στην Python."
      ]
    },
    {
      "cell_type": "code",
      "execution_count": null,
      "metadata": {
        "id": "DtfCSFYD83xQ",
        "outputId": "de1af962-36d5-4d34-d4b3-5e06bf926127"
      },
      "outputs": [
        {
          "name": "stdout",
          "output_type": "stream",
          "text": [
            "4\n",
            "3\n"
          ]
        }
      ],
      "source": [
        "import math\n",
        "print(math.ceil(3.14159))\n",
        "print(math.floor(3.14159))"
      ]
    },
    {
      "cell_type": "markdown",
      "metadata": {
        "id": "7IlRupgI83xQ"
      },
      "source": [
        "# Συναρτήσεις & Μέθοδοι για συμβολοσειρές"
      ]
    },
    {
      "cell_type": "markdown",
      "metadata": {
        "id": "IJ5URUN683xQ"
      },
      "source": [
        " Μάκρος συμβολοσειράς"
      ]
    },
    {
      "cell_type": "code",
      "execution_count": null,
      "metadata": {
        "id": "rKwhHEP683xQ",
        "outputId": "b5843fcf-a812-49c0-b80c-8dd493af03b7"
      },
      "outputs": [
        {
          "data": {
            "text/plain": [
              "10"
            ]
          },
          "execution_count": 112,
          "metadata": {},
          "output_type": "execute_result"
        }
      ],
      "source": [
        "len(\"yourstring\")"
      ]
    },
    {
      "cell_type": "code",
      "execution_count": null,
      "metadata": {
        "id": "-W7LvLn483xQ",
        "outputId": "318d8f13-a032-43d8-cec8-a763442e59fa"
      },
      "outputs": [
        {
          "data": {
            "text/plain": [
              "4"
            ]
          },
          "execution_count": 114,
          "metadata": {},
          "output_type": "execute_result"
        }
      ],
      "source": [
        "len(M)"
      ]
    },
    {
      "cell_type": "markdown",
      "metadata": {
        "id": "OH36Av6-83xQ"
      },
      "source": [
        "Αντικατάσταση περιεχομένου στη συμβολοσειρά"
      ]
    },
    {
      "cell_type": "code",
      "execution_count": null,
      "metadata": {
        "id": "LnxdYKmp83xQ",
        "outputId": "7fa58ec4-00c6-49d3-d3af-25d16277087b"
      },
      "outputs": [
        {
          "data": {
            "text/plain": [
              "'mystring'"
            ]
          },
          "execution_count": 115,
          "metadata": {},
          "output_type": "execute_result"
        }
      ],
      "source": [
        "\"yourstring\".replace(\"your\", \"my\")"
      ]
    },
    {
      "cell_type": "markdown",
      "metadata": {
        "id": "ah32iF3q83xR"
      },
      "source": [
        "Αλλαγή στους χαρακτήρες της συμβολοσειράς"
      ]
    },
    {
      "cell_type": "code",
      "execution_count": null,
      "metadata": {
        "id": "wDul7dqL83xR",
        "outputId": "cb3c6bca-a29e-4e33-bada-1917c1820b36"
      },
      "outputs": [
        {
          "data": {
            "text/plain": [
              "'yOUR sTRING'"
            ]
          },
          "execution_count": 117,
          "metadata": {},
          "output_type": "execute_result"
        }
      ],
      "source": [
        "#\"Your String\".upper()\n",
        "#\"Your String\".lower()\n",
        "#\"Your String\".title()\n",
        "\"Your String\".swapcase()"
      ]
    },
    {
      "cell_type": "markdown",
      "metadata": {
        "id": "2LUOVTOn83xR"
      },
      "source": [
        "Μέτρηση του αριθμού κάποιυ χαρακτήρα ή χαρακτήρων εντός συμβολοσειράς"
      ]
    },
    {
      "cell_type": "code",
      "execution_count": null,
      "metadata": {
        "id": "yVQeqIEH83xR",
        "outputId": "b88a5066-bd99-4009-9a46-f80521ad01cc"
      },
      "outputs": [
        {
          "data": {
            "text/plain": [
              "1"
            ]
          },
          "execution_count": 119,
          "metadata": {},
          "output_type": "execute_result"
        }
      ],
      "source": [
        "\"Your String\".count(\"ur\")"
      ]
    },
    {
      "cell_type": "markdown",
      "metadata": {
        "id": "b0jk1CLZ83xR"
      },
      "source": [
        "Έλεγχος για το εάν η συμβολοσειρά τελειώνει με κάτι συγκεκριμένο"
      ]
    },
    {
      "cell_type": "code",
      "execution_count": null,
      "metadata": {
        "id": "IipA4ozM83xR",
        "outputId": "2e5513a1-43a9-4bf2-c67d-d80435195901"
      },
      "outputs": [
        {
          "data": {
            "text/plain": [
              "True"
            ]
          },
          "execution_count": 120,
          "metadata": {},
          "output_type": "execute_result"
        }
      ],
      "source": [
        "\"Your String\".endswith(\"ng\")"
      ]
    },
    {
      "cell_type": "markdown",
      "metadata": {
        "id": "BDzUcPKq83xR"
      },
      "source": [
        "Διαχωρισμός σε λίστα με βάση κάποιους χαρακτήρες "
      ]
    },
    {
      "cell_type": "code",
      "execution_count": null,
      "metadata": {
        "id": "40mWbJ3m83xR",
        "outputId": "f9c12beb-ad3d-4293-acb2-e6c8e81e89cc"
      },
      "outputs": [
        {
          "data": {
            "text/plain": [
              "['MOURLAS', 'MEDIA', 'UOA', 'GR']"
            ]
          },
          "execution_count": 123,
          "metadata": {},
          "output_type": "execute_result"
        }
      ],
      "source": [
        "\"mourlas@media.uoa.gr\".replace(\"@\",'$').replace(\".\", \"$\").upper().split(\"$\")\n",
        "#\"Your String\".split(\" \")"
      ]
    },
    {
      "cell_type": "markdown",
      "metadata": {
        "id": "J-KN6ozD83xR"
      },
      "source": [
        "Ένωση λίστας μέσα σε συμβολοσειρά στη βάση κάποιων χαρακτήρων "
      ]
    },
    {
      "cell_type": "code",
      "execution_count": null,
      "metadata": {
        "id": "GjK2Ayg583xS",
        "outputId": "d5b65c42-0788-4368-ec41-303dd69ae511"
      },
      "outputs": [
        {
          "data": {
            "text/plain": [
              "'mourlas media uoa'"
            ]
          },
          "execution_count": 128,
          "metadata": {},
          "output_type": "execute_result"
        }
      ],
      "source": [
        "\" \".join([\"mourlas\", \"media\", \"uoa\"])\n",
        "#\"ou\".join([\"Your\", \"String\"])"
      ]
    },
    {
      "cell_type": "markdown",
      "metadata": {
        "id": "ZqSu2-nP83xS"
      },
      "source": [
        "## <span style=\"color:red\">*Άσκηση 1*</span>\n",
        "\n",
        "<span style=\"color:red\">\n",
        "\n",
        "Αλλάξτε το όνομα του notebook βάζοντας το όνομά σας και homework-1-part1-lastname\n",
        "\n",
        "Ακριβώς κάτω από αυτό το κελί προσθέστε νέα κελιά στα οποία θα:\n",
        "\n",
        "Θα φτιάξετε μια λίστα με τους παρακάτω αριθμούς: 23, 91, 0, -11, 4, 23 και 49.\n",
        "Βρείτε τον αριθμό των αντικειμένων της λίστας.\n",
        "Βρείτε το 4ο στοιχείο της λίστας.\n",
        "Βρείτε το άθροισμα του 2ου και του 4ου στοιχείου της λίστας.\n",
        "Βρείτε το 2ο μεγαλύτερο στοιχείο της λίστας.\n",
        "Βρείτε το τελευταίο αντικείμενο της αρχικής λίστας (χωρίς σορτάρισμα).\n",
        "Για κάθε αριθμό να εμφανίσετε έναν αριθμό: αν ο αρχικός αριθμός είναι μεγαλύτερος του 10, πολλαπλασιάστε με το 30. Αν επίσης είναι ζυγός αριθμός, προσθέστε 6. Αν είναι μεγαλύτερος του 50, αφαιρέστε 10. Αν δεν είναι ίσος με -11, αφαιρέστε 1. (Για παράδειγμα το 12 είναι μεγαλύτερο του 10, άρα πολλαπλασιάζουμε 12 * 30 = 360, είναι επίσης ζυγός αριθμός, άρα 360 + 6 = 366, δεν είναι ίσο με -11, άρα 366-1=365.)\n",
        "\n",
        "Βρείτε το σύνολο των αριθμών δια δύο.\n",
        "</span>"
      ]
    },
    {
      "cell_type": "code",
      "source": [
        "from google.colab import drive\n",
        "drive.mount('/content/drive')"
      ],
      "metadata": {
        "colab": {
          "base_uri": "https://localhost:8080/"
        },
        "id": "4w7JmDonSkXp",
        "outputId": "eb015895-21fd-4bc9-c94f-605aadb50e27"
      },
      "execution_count": 1,
      "outputs": [
        {
          "output_type": "stream",
          "name": "stdout",
          "text": [
            "Mounted at /content/drive\n"
          ]
        }
      ]
    },
    {
      "cell_type": "code",
      "execution_count": 2,
      "metadata": {
        "id": "d-YuBuJ_83xS"
      },
      "outputs": [],
      "source": [
        "lista = [23, 91, 0, -11, 4, 23, 49]"
      ]
    },
    {
      "cell_type": "code",
      "source": [
        "lista"
      ],
      "metadata": {
        "colab": {
          "base_uri": "https://localhost:8080/"
        },
        "id": "6i9nKKzYP3NY",
        "outputId": "381dade0-45a2-4b22-b794-caf8d06ba702"
      },
      "execution_count": 3,
      "outputs": [
        {
          "output_type": "execute_result",
          "data": {
            "text/plain": [
              "[23, 91, 0, -11, 4, 23, 49]"
            ]
          },
          "metadata": {},
          "execution_count": 3
        }
      ]
    },
    {
      "cell_type": "code",
      "source": [
        "print(lista[3])"
      ],
      "metadata": {
        "colab": {
          "base_uri": "https://localhost:8080/"
        },
        "id": "7U9rcaOnP6_0",
        "outputId": "059e5ace-7655-4788-d1a5-7477cb3954b9"
      },
      "execution_count": 4,
      "outputs": [
        {
          "output_type": "stream",
          "name": "stdout",
          "text": [
            "-11\n"
          ]
        }
      ]
    },
    {
      "cell_type": "code",
      "source": [
        "print(lista[1]*lista[4])"
      ],
      "metadata": {
        "colab": {
          "base_uri": "https://localhost:8080/"
        },
        "id": "biefJJyHQ-iP",
        "outputId": "26a8e512-05b2-4a20-cf02-a5b1658277d4"
      },
      "execution_count": 5,
      "outputs": [
        {
          "output_type": "stream",
          "name": "stdout",
          "text": [
            "364\n"
          ]
        }
      ]
    },
    {
      "cell_type": "code",
      "source": [
        "sorted(lista)"
      ],
      "metadata": {
        "colab": {
          "base_uri": "https://localhost:8080/"
        },
        "id": "HzrwiGJ3S2bg",
        "outputId": "d860d8a8-3bf6-41d5-e9b6-d0ddd45f1193"
      },
      "execution_count": 6,
      "outputs": [
        {
          "output_type": "execute_result",
          "data": {
            "text/plain": [
              "[-11, 0, 4, 23, 23, 49, 91]"
            ]
          },
          "metadata": {},
          "execution_count": 6
        }
      ]
    },
    {
      "cell_type": "code",
      "source": [
        "sorted(lista)[-2]"
      ],
      "metadata": {
        "colab": {
          "base_uri": "https://localhost:8080/"
        },
        "id": "1qFAu6o8TdX4",
        "outputId": "25176825-660a-488c-b912-e41a42cc13b4"
      },
      "execution_count": 7,
      "outputs": [
        {
          "output_type": "execute_result",
          "data": {
            "text/plain": [
              "49"
            ]
          },
          "metadata": {},
          "execution_count": 7
        }
      ]
    },
    {
      "cell_type": "code",
      "source": [
        "len(lista)"
      ],
      "metadata": {
        "colab": {
          "base_uri": "https://localhost:8080/"
        },
        "id": "58BGubDdTq-_",
        "outputId": "33c812fe-f68c-43e7-fa77-b92c616714cc"
      },
      "execution_count": 8,
      "outputs": [
        {
          "output_type": "execute_result",
          "data": {
            "text/plain": [
              "7"
            ]
          },
          "metadata": {},
          "execution_count": 8
        }
      ]
    },
    {
      "cell_type": "code",
      "source": [
        "print(lista[6])"
      ],
      "metadata": {
        "colab": {
          "base_uri": "https://localhost:8080/"
        },
        "id": "6JcxnHjjTwTV",
        "outputId": "0628d31a-b1f4-4525-b018-31c51652f5bc"
      },
      "execution_count": 9,
      "outputs": [
        {
          "output_type": "stream",
          "name": "stdout",
          "text": [
            "49\n"
          ]
        }
      ]
    },
    {
      "cell_type": "code",
      "source": [
        "for number in lista:\n",
        "  print(number)"
      ],
      "metadata": {
        "colab": {
          "base_uri": "https://localhost:8080/"
        },
        "id": "4ZleTDc4UHhQ",
        "outputId": "4bdc7ada-20e1-4858-a37f-1b5e7bd2b983"
      },
      "execution_count": 10,
      "outputs": [
        {
          "output_type": "stream",
          "name": "stdout",
          "text": [
            "23\n",
            "91\n",
            "0\n",
            "-11\n",
            "4\n",
            "23\n",
            "49\n"
          ]
        }
      ]
    },
    {
      "cell_type": "code",
      "source": [
        "for number in lista:\n",
        "  if number > 10:\n",
        "    print(number*30)\n",
        "\n",
        "      "
      ],
      "metadata": {
        "colab": {
          "base_uri": "https://localhost:8080/"
        },
        "id": "rmbX223HUdOB",
        "outputId": "964ba443-4d6a-4d43-d59f-27c4b2aa6d07"
      },
      "execution_count": 15,
      "outputs": [
        {
          "output_type": "stream",
          "name": "stdout",
          "text": [
            "690\n",
            "2730\n",
            "690\n",
            "1470\n"
          ]
        }
      ]
    },
    {
      "cell_type": "code",
      "source": [
        "for number in lista:\n",
        "  if number%2 == 0:\n",
        "    print(number+6)"
      ],
      "metadata": {
        "colab": {
          "base_uri": "https://localhost:8080/"
        },
        "id": "qsnaNyq0q3W0",
        "outputId": "466f3f7a-ff79-4416-c879-1afdab64ef33"
      },
      "execution_count": 14,
      "outputs": [
        {
          "output_type": "stream",
          "name": "stdout",
          "text": [
            "6\n",
            "10\n"
          ]
        }
      ]
    },
    {
      "cell_type": "code",
      "source": [
        "for number in lista:\n",
        "  if number > 50:\n",
        "    print(number-10)"
      ],
      "metadata": {
        "colab": {
          "base_uri": "https://localhost:8080/"
        },
        "id": "JXgAFzFRZc0J",
        "outputId": "207c0495-913f-4d6d-8fe5-b4acbbd4973e"
      },
      "execution_count": 16,
      "outputs": [
        {
          "output_type": "stream",
          "name": "stdout",
          "text": [
            "81\n"
          ]
        }
      ]
    },
    {
      "cell_type": "code",
      "source": [
        "for number in lista:\n",
        "  if number != -11:\n",
        "    print(number-1)"
      ],
      "metadata": {
        "colab": {
          "base_uri": "https://localhost:8080/"
        },
        "id": "75MRQVv0sbTW",
        "outputId": "382993ee-330d-43c7-dec8-3e404565ca5e"
      },
      "execution_count": 17,
      "outputs": [
        {
          "output_type": "stream",
          "name": "stdout",
          "text": [
            "22\n",
            "90\n",
            "-1\n",
            "3\n",
            "22\n",
            "48\n"
          ]
        }
      ]
    },
    {
      "cell_type": "code",
      "source": [
        "for number in lista:\n",
        "  if number > 10:\n",
        "    print(number*30)\n",
        "\n",
        "    if number%2 == 0:\n",
        "      print(number+6)\n",
        "\n",
        "      if number > 50:\n",
        "        print(number-10)\n",
        "\n",
        "        if number != -11:\n",
        "          print(number-1)"
      ],
      "metadata": {
        "colab": {
          "base_uri": "https://localhost:8080/"
        },
        "id": "uaa2opeysts9",
        "outputId": "dfdb8f22-0c23-49f8-ee9e-4f5219b00d08"
      },
      "execution_count": 25,
      "outputs": [
        {
          "output_type": "stream",
          "name": "stdout",
          "text": [
            "690\n",
            "2730\n",
            "690\n",
            "1470\n"
          ]
        }
      ]
    },
    {
      "cell_type": "markdown",
      "source": [
        "Δεν ήμουν σίγουρη εάν έπρεπε να το κάνω σε ξεχωριστά κελιά ή σε ένα ενιαίο οπότε δοκίμασα και τους δύο τρόπους να συγκρίνω τα αποτελέσματα. Συγγνώμη για την καθυστέρηση απλώς ήμουν εκτός Αθηνών και θα κάνω τις εργασίες αναδρομικά μέσα στο Πάσχα. Ενημερώστε με για τυχόν παρατηρήσεις.\n",
        "Ευχαριστώ πολύ και καλό Πάσχα!"
      ],
      "metadata": {
        "id": "74PxYmF7uSge"
      }
    }
  ],
  "metadata": {
    "kernelspec": {
      "display_name": "Python 3",
      "language": "python",
      "name": "python3"
    },
    "language_info": {
      "codemirror_mode": {
        "name": "ipython",
        "version": 3
      },
      "file_extension": ".py",
      "mimetype": "text/x-python",
      "name": "python",
      "nbconvert_exporter": "python",
      "pygments_lexer": "ipython3",
      "version": "3.6.7"
    },
    "colab": {
      "provenance": [],
      "include_colab_link": true
    }
  },
  "nbformat": 4,
  "nbformat_minor": 0
}